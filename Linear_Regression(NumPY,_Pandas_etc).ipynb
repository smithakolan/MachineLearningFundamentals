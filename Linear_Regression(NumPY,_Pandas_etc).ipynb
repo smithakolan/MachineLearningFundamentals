{
  "nbformat": 4,
  "nbformat_minor": 0,
  "metadata": {
    "colab": {
      "name": "Linear Regression(NumPY, Pandas etc).ipynb",
      "provenance": [],
      "collapsed_sections": [],
      "authorship_tag": "ABX9TyOodJ6grrhpespFSzKKs1E7",
      "include_colab_link": true
    },
    "kernelspec": {
      "name": "python3",
      "display_name": "Python 3"
    },
    "language_info": {
      "name": "python"
    }
  },
  "cells": [
    {
      "cell_type": "markdown",
      "metadata": {
        "id": "view-in-github",
        "colab_type": "text"
      },
      "source": [
        "<a href=\"https://colab.research.google.com/github/smithakolan/MachineLearningFundamentals/blob/master/Linear_Regression(NumPY%2C_Pandas_etc).ipynb\" target=\"_parent\"><img src=\"https://colab.research.google.com/assets/colab-badge.svg\" alt=\"Open In Colab\"/></a>"
      ]
    },
    {
      "cell_type": "code",
      "metadata": {
        "id": "y-zGxFGZYyl0"
      },
      "source": [
        "import pandas as pd\n",
        "import numpy as np"
      ],
      "execution_count": 27,
      "outputs": []
    },
    {
      "cell_type": "code",
      "metadata": {
        "colab": {
          "base_uri": "https://localhost:8080/"
        },
        "id": "MSV8JbcZY1Ny",
        "outputId": "6dc57c95-0d6e-4af7-f620-3a8b8abeb6fc"
      },
      "source": [
        "df = pd.read_csv('/content/Levels_Fyi_Salary_Data.csv')\n",
        "print(df)"
      ],
      "execution_count": 9,
      "outputs": [
        {
          "output_type": "stream",
          "name": "stdout",
          "text": [
            "                timestamp     company     level  ... Race_Hispanic  Race Education\n",
            "0       6/7/2017 11:33:27      Oracle        L3  ...             0   NaN       NaN\n",
            "1      6/10/2017 17:11:29        eBay      SE 2  ...             0   NaN       NaN\n",
            "2      6/11/2017 14:53:57      Amazon        L7  ...             0   NaN       NaN\n",
            "3       6/17/2017 0:23:14       Apple        M1  ...             0   NaN       NaN\n",
            "4      6/20/2017 10:58:51   Microsoft        60  ...             0   NaN       NaN\n",
            "...                   ...         ...       ...  ...           ...   ...       ...\n",
            "62637   9/9/2018 11:52:32      Google        T4  ...             0   NaN       NaN\n",
            "62638   9/13/2018 8:23:32   Microsoft        62  ...             0   NaN       NaN\n",
            "62639  9/13/2018 14:35:59        MSFT        63  ...             0   NaN       NaN\n",
            "62640  9/16/2018 16:10:35  Salesforce  Lead MTS  ...             0   NaN       NaN\n",
            "62641   1/29/2019 5:12:59       apple      ict3  ...             0   NaN       NaN\n",
            "\n",
            "[62642 rows x 29 columns]\n"
          ]
        }
      ]
    },
    {
      "cell_type": "code",
      "metadata": {
        "colab": {
          "base_uri": "https://localhost:8080/"
        },
        "id": "eTPzeV3aZs04",
        "outputId": "95a28ad6-2a8b-44db-dd78-de4351655256"
      },
      "source": [
        "print(df.columns)"
      ],
      "execution_count": 10,
      "outputs": [
        {
          "output_type": "stream",
          "name": "stdout",
          "text": [
            "Index(['timestamp', 'company', 'level', 'title', 'totalyearlycompensation',\n",
            "       'location', 'yearsofexperience', 'yearsatcompany', 'tag', 'basesalary',\n",
            "       'stockgrantvalue', 'bonus', 'gender', 'otherdetails', 'cityid', 'dmaid',\n",
            "       'rowNumber', 'Masters_Degree', 'Bachelors_Degree', 'Doctorate_Degree',\n",
            "       'Highschool', 'Some_College', 'Race_Asian', 'Race_White',\n",
            "       'Race_Two_Or_More', 'Race_Black', 'Race_Hispanic', 'Race', 'Education'],\n",
            "      dtype='object')\n"
          ]
        }
      ]
    },
    {
      "cell_type": "code",
      "metadata": {
        "id": "Iac8lT_iZ4Pu"
      },
      "source": [
        "salaryDF = df[['company', 'totalyearlycompensation', 'yearsofexperience', 'yearsatcompany', 'basesalary']]"
      ],
      "execution_count": 11,
      "outputs": []
    },
    {
      "cell_type": "code",
      "metadata": {
        "colab": {
          "base_uri": "https://localhost:8080/"
        },
        "id": "zEN0R2zYaaKy",
        "outputId": "fe4785f9-938f-432e-e213-cb46d35cd871"
      },
      "source": [
        "print(salaryDF.head())"
      ],
      "execution_count": 12,
      "outputs": [
        {
          "output_type": "stream",
          "name": "stdout",
          "text": [
            "     company  totalyearlycompensation  ...  yearsatcompany  basesalary\n",
            "0     Oracle                   127000  ...             1.5    107000.0\n",
            "1       eBay                   100000  ...             3.0         0.0\n",
            "2     Amazon                   310000  ...             0.0    155000.0\n",
            "3      Apple                   372000  ...             5.0    157000.0\n",
            "4  Microsoft                   157000  ...             3.0         0.0\n",
            "\n",
            "[5 rows x 5 columns]\n"
          ]
        }
      ]
    },
    {
      "cell_type": "markdown",
      "metadata": {
        "id": "ka6aCbUlBCUM"
      },
      "source": [
        "## Create training and testing data"
      ]
    },
    {
      "cell_type": "markdown",
      "metadata": {
        "id": "u3e3eb06BN4s"
      },
      "source": [
        "## Functions for RMSE & calculating weights"
      ]
    },
    {
      "cell_type": "code",
      "metadata": {
        "id": "V5grJVNi4omx"
      },
      "source": [
        "def rmse(targets, predictions):\n",
        "    return np.sqrt((np.square(predictions - targets)).mean())\n",
        "\n",
        "def calculateWeights(x_train, y_train):\n",
        "    w = np.linalg.inv(np.transpose(x_train).dot(x_train)).dot(np.transpose(x_train).dot(y_train))\n",
        "    return w\n"
      ],
      "execution_count": 53,
      "outputs": []
    }
  ]
}