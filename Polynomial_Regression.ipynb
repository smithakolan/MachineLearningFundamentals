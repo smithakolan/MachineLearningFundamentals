{
  "nbformat": 4,
  "nbformat_minor": 0,
  "metadata": {
    "colab": {
      "name": "Polynomial Regression.ipynb",
      "provenance": [],
      "authorship_tag": "ABX9TyNGTrlRJzqwcqpYimxSqJ3R",
      "include_colab_link": true
    },
    "kernelspec": {
      "name": "python3",
      "display_name": "Python 3"
    },
    "language_info": {
      "name": "python"
    }
  },
  "cells": [
    {
      "cell_type": "markdown",
      "metadata": {
        "id": "view-in-github",
        "colab_type": "text"
      },
      "source": [
        "<a href=\"https://colab.research.google.com/github/smithakolan/MachineLearningFundamentals/blob/master/Polynomial_Regression.ipynb\" target=\"_parent\"><img src=\"https://colab.research.google.com/assets/colab-badge.svg\" alt=\"Open In Colab\"/></a>"
      ]
    },
    {
      "cell_type": "code",
      "source": [
        "import numpy as np\n",
        "import matplotlib.pyplot as plt\n",
        "import pandas as pd"
      ],
      "metadata": {
        "id": "5A-dcPMK47q7"
      },
      "execution_count": null,
      "outputs": []
    },
    {
      "cell_type": "code",
      "execution_count": null,
      "metadata": {
        "colab": {
          "base_uri": "https://localhost:8080/"
        },
        "id": "rvaFKDZg4ot6",
        "outputId": "ca58a84a-99f4-4281-96d1-a0b7a1b1eaf3"
      },
      "outputs": [
        {
          "output_type": "stream",
          "name": "stdout",
          "text": [
            "                timestamp     company     level  ... Race_Hispanic  Race Education\n",
            "0       6/7/2017 11:33:27      Oracle        L3  ...             0   NaN       NaN\n",
            "1      6/10/2017 17:11:29        eBay      SE 2  ...             0   NaN       NaN\n",
            "2      6/11/2017 14:53:57      Amazon        L7  ...             0   NaN       NaN\n",
            "3       6/17/2017 0:23:14       Apple        M1  ...             0   NaN       NaN\n",
            "4      6/20/2017 10:58:51   Microsoft        60  ...             0   NaN       NaN\n",
            "...                   ...         ...       ...  ...           ...   ...       ...\n",
            "62637   9/9/2018 11:52:32      Google        T4  ...             0   NaN       NaN\n",
            "62638   9/13/2018 8:23:32   Microsoft        62  ...             0   NaN       NaN\n",
            "62639  9/13/2018 14:35:59        MSFT        63  ...             0   NaN       NaN\n",
            "62640  9/16/2018 16:10:35  Salesforce  Lead MTS  ...             0   NaN       NaN\n",
            "62641   1/29/2019 5:12:59       apple      ict3  ...             0   NaN       NaN\n",
            "\n",
            "[62642 rows x 29 columns]\n"
          ]
        }
      ],
      "source": [
        "df = pd.read_csv('/content/Levels_Fyi_Salary_Data.csv')\n",
        "print(df)"
      ]
    },
    {
      "cell_type": "code",
      "source": [
        "print(df.columns)"
      ],
      "metadata": {
        "colab": {
          "base_uri": "https://localhost:8080/"
        },
        "id": "lK6kNXvP8P4h",
        "outputId": "e70c08a5-e3ed-4f28-a6a0-fa4f6c359225"
      },
      "execution_count": null,
      "outputs": [
        {
          "output_type": "stream",
          "name": "stdout",
          "text": [
            "Index(['timestamp', 'company', 'level', 'title', 'totalyearlycompensation',\n",
            "       'location', 'yearsofexperience', 'yearsatcompany', 'tag', 'basesalary',\n",
            "       'stockgrantvalue', 'bonus', 'gender', 'otherdetails', 'cityid', 'dmaid',\n",
            "       'rowNumber', 'Masters_Degree', 'Bachelors_Degree', 'Doctorate_Degree',\n",
            "       'Highschool', 'Some_College', 'Race_Asian', 'Race_White',\n",
            "       'Race_Two_Or_More', 'Race_Black', 'Race_Hispanic', 'Race', 'Education'],\n",
            "      dtype='object')\n"
          ]
        }
      ]
    },
    {
      "cell_type": "code",
      "source": [
        "salaryDF = df[['company', 'totalyearlycompensation', 'yearsofexperience', 'yearsatcompany', 'basesalary']]"
      ],
      "metadata": {
        "id": "ygNTMMUT73zV"
      },
      "execution_count": null,
      "outputs": []
    },
    {
      "cell_type": "code",
      "source": [
        "print(salaryDF.head())"
      ],
      "metadata": {
        "colab": {
          "base_uri": "https://localhost:8080/"
        },
        "id": "mtj59MkV8Tbu",
        "outputId": "1b270b57-74ea-47fd-ee98-bb268a493fc8"
      },
      "execution_count": null,
      "outputs": [
        {
          "output_type": "stream",
          "name": "stdout",
          "text": [
            "     company  totalyearlycompensation  ...  yearsatcompany  basesalary\n",
            "0     Oracle                   127000  ...             1.5    107000.0\n",
            "1       eBay                   100000  ...             3.0         0.0\n",
            "2     Amazon                   310000  ...             0.0    155000.0\n",
            "3      Apple                   372000  ...             5.0    157000.0\n",
            "4  Microsoft                   157000  ...             3.0         0.0\n",
            "\n",
            "[5 rows x 5 columns]\n"
          ]
        }
      ]
    },
    {
      "cell_type": "markdown",
      "source": [
        "Splitting"
      ],
      "metadata": {
        "id": "3NlOa2MgDy4D"
      }
    },
    {
      "cell_type": "code",
      "source": [
        "X = salaryDF.iloc[:,2:]\n",
        "y_train = salaryDF.iloc[:50000,1]\n",
        "y_test = salaryDF.iloc[50000:,1]\n",
        "\n",
        "rows = X.shape[0]\n",
        "count = 0\n",
        "N_TRAIN = 50000\n",
        "\n",
        "train_err = {}\n",
        "test_err = {}\n"
      ],
      "metadata": {
        "colab": {
          "base_uri": "https://localhost:8080/"
        },
        "id": "asIlw040DyR5",
        "outputId": "6695e6a1-5dab-4596-ef99-4a12f1ad2249"
      },
      "execution_count": null,
      "outputs": [
        {
          "output_type": "stream",
          "name": "stdout",
          "text": [
            "   yearsofexperience  yearsatcompany  basesalary\n",
            "0                1.5             1.5    107000.0\n",
            "1                5.0             3.0         0.0\n",
            "2                8.0             0.0    155000.0\n",
            "3                7.0             5.0    157000.0\n",
            "4                5.0             3.0         0.0\n",
            "0          2.25\n",
            "1         25.00\n",
            "2         64.00\n",
            "3         49.00\n",
            "4         25.00\n",
            "          ...  \n",
            "62637    100.00\n",
            "62638      4.00\n",
            "62639    196.00\n",
            "62640     64.00\n",
            "62641      0.00\n",
            "Name: yearsofexperience, Length: 62642, dtype: float64\n"
          ]
        }
      ]
    },
    {
      "cell_type": "code",
      "source": [
        "def rmse(targets, predictions):\n",
        "    return np.sqrt((np.square(predictions - targets)).mean())"
      ],
      "metadata": {
        "id": "p4nWmuvKUKeM"
      },
      "execution_count": null,
      "outputs": []
    },
    {
      "cell_type": "code",
      "source": [
        "for i in range(1,6):\n",
        "  A = np.ones([rows, (3*i)+1])\n",
        "  print(A.shape)\n",
        "  for j in range(0,3):\n",
        "    for k in range(1, i+1):\n",
        "        A[:,count]=np.power(np.array(X.iloc[:,j]).T, k)\n",
        "        count = count+1\n",
        "  #splitting the x-values with monomials into training and testing\n",
        "  print(A[1])\n",
        "  x_train = A[0:N_TRAIN,:]\n",
        "  x_test = A[N_TRAIN:,:]\n",
        "    \n",
        "  print(x_train.shape)\n",
        "  w = np.linalg.inv(x_train.T.dot(x_train)).dot(x_train.T.dot(y_train))\n",
        "  #calculate training error\n",
        "  y_train_pred = x_train.dot(w)\n",
        "  rms_train = rmse(y_train, y_train_pred)\n",
        "  train_err[i] = rms_train\n",
        "  print(rms_train)\n",
        "    \n",
        "    \n",
        "  #calculate test error\n",
        "  y_test_pred = x_test.dot(w)\n",
        "  rms_test = rmse(y_test, y_test_pred)\n",
        "  print(rms_test)\n",
        "  test_err[i] = rms_test\n",
        "    \n",
        "  count = 0"
      ],
      "metadata": {
        "colab": {
          "base_uri": "https://localhost:8080/"
        },
        "id": "mhYuWCGqL2f6",
        "outputId": "fd086fc4-f7cd-4408-b22c-f412b6e0b21b"
      },
      "execution_count": null,
      "outputs": [
        {
          "output_type": "stream",
          "name": "stdout",
          "text": [
            "(62642, 4)\n",
            "[5. 3. 0. 1.]\n",
            "(50000, 4)\n",
            "92469.43809773953\n",
            "121382.52351504724\n",
            "(62642, 7)\n",
            "[ 5. 25.  3.  9.  0.  0.  1.]\n",
            "(50000, 7)\n",
            "91573.99026037076\n",
            "129644.37305767808\n",
            "(62642, 10)\n",
            "[  5.  25. 125.   3.   9.  27.   0.   0.   0.   1.]\n",
            "(50000, 10)\n",
            "82679.30803704054\n",
            "450246.99729011103\n",
            "(62642, 13)\n",
            "[  5.  25. 125. 625.   3.   9.  27.  81.   0.   0.   0.   0.   1.]\n",
            "(50000, 13)\n",
            "76200.18255097712\n",
            "1486057.6706302396\n",
            "(62642, 16)\n",
            "[5.000e+00 2.500e+01 1.250e+02 6.250e+02 3.125e+03 3.000e+00 9.000e+00\n",
            " 2.700e+01 8.100e+01 2.430e+02 0.000e+00 0.000e+00 0.000e+00 0.000e+00\n",
            " 0.000e+00 1.000e+00]\n",
            "(50000, 16)\n",
            "75412.29147140722\n",
            "1535500.4795176922\n"
          ]
        }
      ]
    },
    {
      "cell_type": "code",
      "source": [
        "# Produce a plot of results.\n",
        "plt.plot(list(train_err.keys()), list(train_err.values()))\n",
        "plt.plot(list(test_err.keys()), list(test_err.values()))\n",
        "plt.ylabel('RMS')\n",
        "plt.legend(['Test error','Training error'])\n",
        "plt.title('Fit with polynomials, no regularization')\n",
        "plt.xlabel('Polynomial degree')\n",
        "plt.show()"
      ],
      "metadata": {
        "colab": {
          "base_uri": "https://localhost:8080/",
          "height": 295
        },
        "id": "5Ju_9F9KQFVn",
        "outputId": "0e2c1327-09d7-4e77-cada-8ce38de20fd9"
      },
      "execution_count": null,
      "outputs": [
        {
          "output_type": "display_data",
          "data": {
            "image/png": "[encoded data removed]",
            "text/plain": [
              "<Figure size 432x288 with 1 Axes>"
            ]
          },
          "metadata": {
            "needs_background": "light"
          }
        }
      ]
    }
  ]
}